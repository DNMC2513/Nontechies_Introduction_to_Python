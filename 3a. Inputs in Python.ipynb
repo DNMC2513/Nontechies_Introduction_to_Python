{
 "cells": [
  {
   "cell_type": "markdown",
   "id": "6d4f5a52-e025-4c45-902e-a1cfbf216f7e",
   "metadata": {},
   "source": [
    "# Inputs in Python"
   ]
  },
  {
   "cell_type": "markdown",
   "id": "d2866990-cd0d-446c-a996-16dd4fe5488d",
   "metadata": {},
   "source": [
    "## `Outline`:\n",
    "- I, Working with inputs:\n",
    "    - 1, Directly type down the data's value.\n",
    "    - 2, Assign data into variables.\n",
    "- II, Types of inputs:\n",
    "    - 1, String\n",
    "    - 2, Float and int\n",
    "    - 3, Bool\n",
    "    - 4, Data types conversion"
   ]
  },
  {
   "cell_type": "markdown",
   "id": "e3acbbb5-183b-4ff3-944e-e86e89fdc182",
   "metadata": {},
   "source": [
    "## I, Working with inputs:"
   ]
  },
  {
   "cell_type": "markdown",
   "id": "a773428d-c667-45a0-bbc6-23c628e11545",
   "metadata": {},
   "source": [
    " In the latest chapter, we have walked through a basic understanding of Python and instructions on prepping for coding. Now, it is time for you to rise and shine to write your first basic program.\n",
    " \n",
    " We all know that to code, we must work with our input data. So how can we do it? There are two ways for us to do it:\n",
    " - Directly type down the data's value\n",
    " - Assign data into variables"
   ]
  },
  {
   "cell_type": "markdown",
   "id": "ff0a092a-7b55-4dcf-b53a-ef3354c1877b",
   "metadata": {},
   "source": [
    "### 1, Directly type down the data's value:\n",
    "- `press Ctrl + Shift to execute the code`"
   ]
  },
  {
   "cell_type": "markdown",
   "id": "60bf0118-6dc4-4e02-a799-4b0d28354db3",
   "metadata": {},
   "source": [
    "<p style = \"color:cyan\"> Ex1: Input a numerical value of 6</p>"
   ]
  },
  {
   "cell_type": "code",
   "execution_count": null,
   "id": "f3b713dd-d357-4327-beca-d7e7ee26f505",
   "metadata": {},
   "outputs": [],
   "source": [
    "#Type here:\n",
    "6"
   ]
  },
  {
   "cell_type": "markdown",
   "id": "2cdad417-e916-4cd3-ba15-753bf36da3c0",
   "metadata": {},
   "source": [
    "<details><summary>Click here for the solution after you've done the tasks:\n",
    "</summary>\n",
    "\n",
    "```python\n",
    "6\n",
    "\n",
    "```\n",
    "\n",
    "</details>\n"
   ]
  },
  {
   "cell_type": "markdown",
   "id": "f787630a-43bf-450d-9920-dbcdad8bde32",
   "metadata": {},
   "source": [
    "<p style = \"color:cyan\"> Ex2: Input a numerical value of 13</p>"
   ]
  },
  {
   "cell_type": "code",
   "execution_count": null,
   "id": "90f0c194-5034-4493-84df-6d866af48628",
   "metadata": {},
   "outputs": [],
   "source": [
    "#Type here:\n"
   ]
  },
  {
   "cell_type": "markdown",
   "id": "b1683718-56a3-4b5e-9058-ca4ca1c6e332",
   "metadata": {
    "tags": []
   },
   "source": [
    "<details><summary >Click here for the solution after you've done the tasks:   \n",
    "</summary>\n",
    "\n",
    "```python\n",
    "13\n",
    "\n",
    "```\n",
    "\n",
    "</details>\n"
   ]
  },
  {
   "cell_type": "markdown",
   "id": "dccc27f3-8a72-46eb-b9bf-dd3f53414a82",
   "metadata": {},
   "source": [
    "<p style = \"color:cyan\"> Ex3: Input a numerical value 99:"
   ]
  },
  {
   "cell_type": "code",
   "execution_count": null,
   "id": "b46d8600-8448-4d21-b876-cf755245df78",
   "metadata": {},
   "outputs": [],
   "source": [
    "#Type here:\n"
   ]
  },
  {
   "cell_type": "markdown",
   "id": "024f4f78-bca2-48a8-b467-268aab40358f",
   "metadata": {},
   "source": [
    "<details><summary >Click here for the solution after you've done the tasks:\n",
    "</summary>\n",
    "\n",
    "```python\n",
    "99\n",
    "\n",
    "```\n",
    "\n",
    "</details>\n"
   ]
  },
  {
   "cell_type": "markdown",
   "id": "a0abe2ce-e1cd-4523-b644-cd95e540c8c5",
   "metadata": {},
   "source": [
    "<p style = \"color:cyan\">Ex4: Input the following paragraph: \n",
    "\n",
    "    Beige, because is warm, simple and natural. Because it's the color of the worn earth of Mademoiselle's native Auvergne and the beaches of Deauville, Biarritz and Venice Lido. Because it is for her the color for the outdoor, of a natural complexion and the healthy glow of skin kissed by the sun.\n",
    "</p>"
   ]
  },
  {
   "cell_type": "code",
   "execution_count": null,
   "id": "4078d178-4133-42ed-8285-289a65ca439f",
   "metadata": {},
   "outputs": [],
   "source": [
    "#Type here:\n"
   ]
  },
  {
   "cell_type": "markdown",
   "id": "f2ec9163-bb26-476b-8077-c0a204752866",
   "metadata": {},
   "source": [
    "<details><summary > Click here for the solution:\n",
    "</summary>\n",
    "\n",
    "```python\n",
    "\"Beige, because is warm, simple and natural. Because it's the color of the worn earth of Mademoiselle's native Auvergne and the beaches of Deauville, Biarritz and Venice Lido. Because it is for her the color for the outdoor, of a natural complexion and the healthy glow of skin kissed by the sun.\"\n",
    "\n",
    "```\n",
    "\n",
    "</details>\n"
   ]
  },
  {
   "cell_type": "markdown",
   "id": "202b6a06-9be0-43ca-8af4-b7c2aa92e146",
   "metadata": {},
   "source": [
    "\n",
    "### 2, Assign data into variables: \n",
    "\n",
    "#### a, When?\n",
    " We use variables to make it convenient for us under the following circumstances:\n",
    "- When we need to reuse data pieces\n",
    "- When we need to work with values that vary\n",
    "\n",
    "#### b, So what is a variable? \n",
    "\n",
    " It is an identifier/a name for the data input that we are working on. To name a variable, we must obey some rules:\n",
    "- No spaces in between the variable. A space must be represented by \"_\".\n",
    "- Always start a variable with an alphabet character or \"_\". No number or other characters are allowed.\n",
    "- All characters within the variable must belong to a standard character set to use on computers and electronic devices, such as [ASCII](https://www.w3schools.com/charsets/ref_html_ascii.asp) or [Unicode](https://unicode.org/standard/standard.html).\n",
    "- Python programming language is case-sensitive. For instance: `Var1` and `var1` are two different variables since one word has a cap letter whilst the other is not.\n",
    "- A variable name should be brief and meaningful.\n",
    "\n",
    "#### c, How to assign values to variables?\n",
    "\n",
    " We type down the variable name followed by an equal sign \"=\", then comes the value to assign:\n",
    " \n",
    " `Variable_name` `=` `Values`\n",
    "\n",
    "#### d, How to call out the value of the variable?\n",
    " \n",
    " Type down the variable."
   ]
  },
  {
   "cell_type": "markdown",
   "id": "63bc6df3-76cf-4886-afcf-0cb4af4015a1",
   "metadata": {},
   "source": [
    "<p style= \"color:cyan\"> Ex5: Assign the following paragraph into a variable named `the_para` and then call it out: \n",
    "\n",
    "    Beige, because is warm, simple and natural. Because it's the color of the worn earth of Mademoiselle's native Auvergne and the beaches of Deauville, Biarritz and Venice Lido. Because it is for her the color for the outdoor, of a natural complexion and the healthy glow of skin kissed by the sun.\n",
    "    \n",
    "</p>\n",
    "    "
   ]
  },
  {
   "cell_type": "code",
   "execution_count": null,
   "id": "58c39f48-27a3-4cf9-beba-456ef4d19ae4",
   "metadata": {},
   "outputs": [],
   "source": [
    "#Type here:\n"
   ]
  },
  {
   "cell_type": "markdown",
   "id": "7c799f11-fa66-498e-b525-e41c900c6f91",
   "metadata": {},
   "source": [
    "<details><summary>Click here for the solution after you've done the tasks:    \n",
    "    \n",
    "</summary>\n",
    "\n",
    "```python\n",
    "the_para = \"Beige, because is warm, simple and natural. Because it's the color of the worn earth of Mademoiselle's native Auvergne and the beaches of Deauville, Biarritz and Venice Lido. Because it is for her the color for the outdoor, of a natural complexion and the healthy glow of skin kissed by the sun.\"\n",
    "\n",
    "the_para\n",
    "```\n",
    "\n",
    "</details>\n"
   ]
  },
  {
   "cell_type": "markdown",
   "id": "ace5d8fc-c400-467c-8341-3d972084b2d6",
   "metadata": {},
   "source": [
    "<p style = \"color:cyan\"> Ex6: Assign the numerical value of 2023 into a variable named `year` and then call it out.\n",
    "    \n",
    "</p>"
   ]
  },
  {
   "cell_type": "code",
   "execution_count": null,
   "id": "98393f48-5564-41af-bbdf-64907b098989",
   "metadata": {},
   "outputs": [],
   "source": [
    "#Type here:\n"
   ]
  },
  {
   "cell_type": "markdown",
   "id": "36bf519c-6124-41d5-8251-2d95d9ac044e",
   "metadata": {},
   "source": [
    "<details><summary >Click here for the solution after you've done the task.    \n",
    "  \n",
    "    \n",
    "</summary>\n",
    "\n",
    "```python\n",
    "year = 2023\n",
    "year\n",
    "```\n",
    "\n",
    "</details>\n"
   ]
  },
  {
   "cell_type": "markdown",
   "id": "1663f5d0-dd14-4fa2-ba33-f8b0e1ee1a43",
   "metadata": {},
   "source": [
    "<p style = \"color: cyan\">Ex7: Assign the numerical value of March into a variable named `month` and then call it out.\n",
    "    </p>\n"
   ]
  },
  {
   "cell_type": "code",
   "execution_count": null,
   "id": "b228c89b-2f64-40de-b29e-03778a5d9a85",
   "metadata": {},
   "outputs": [],
   "source": [
    "#Type here:\n"
   ]
  },
  {
   "cell_type": "markdown",
   "id": "9def44fb-2415-48a5-b9b0-dbc43062a3d3",
   "metadata": {},
   "source": [
    "<details><summary >Click here for the solution after you've done the task.    \n",
    "    \n",
    "    \n",
    "</summary>\n",
    "\n",
    "```python\n",
    "month = 'March'\n",
    "month\n",
    "```\n",
    "\n",
    "</details>\n"
   ]
  },
  {
   "cell_type": "markdown",
   "id": "4a4fa4dd-5eb9-4ed4-a1fd-a8b2ac6cfae8",
   "metadata": {},
   "source": [
    "<p style = \"color:cyan\">Ex8: Name a variable, then assign a value into it and call it out.\n",
    "    \n",
    "</p>"
   ]
  },
  {
   "cell_type": "code",
   "execution_count": null,
   "id": "e4cbae36-ba2f-4356-a92c-18357865fa00",
   "metadata": {},
   "outputs": [],
   "source": [
    "#Type here:"
   ]
  },
  {
   "cell_type": "markdown",
   "id": "b6fbecb5-9c4e-48eb-8b9f-14c43030177f",
   "metadata": {},
   "source": [
    "<details><summary >Click here for the solution after you've done the task.    \n",
    "    \n",
    "    \n",
    "</summary>\n",
    "\n",
    "`If there is no error to pop up, then you pass =)\n",
    "\n",
    "</details>\n"
   ]
  },
  {
   "cell_type": "markdown",
   "id": "6cc13d86-3d46-48d6-a8df-0773d76ab2f5",
   "metadata": {},
   "source": [
    "## II, Types of inputs:\n",
    " As mentioned in the previous chapter, Python is a high-functional object-oriented programming language. Each data piece can be considered as an `object`. We can pass almost all forms of data into it. Now, let's get exposure to the most common forms of data in Python, which we will officially call `classes of objects:\n",
    " - Text: `String`\n",
    " - Numbers: `Float`, `Int`\n",
    " - Boolean: `bool`\n",
    " \n",
    " To check the class of the data piece, we use the function `type()` and pass the variable or the constant inside the parentheses. Just in case :\n",
    "> a function is a reusable block of code that we can call out to use. When we call out a function, we type down its name on the editor screen to use it."
   ]
  },
  {
   "cell_type": "markdown",
   "id": "4dde93cf-2333-4f8a-85ed-2f52617b6f24",
   "metadata": {},
   "source": [
    "<p style = \"color:cyan\"> Ex9: Can you tell the class of the data piece below?\n",
    "    \n",
    "```python\n",
    "5\n",
    "```\n",
    "    \n",
    "</p>"
   ]
  },
  {
   "cell_type": "code",
   "execution_count": null,
   "id": "e55e412a-39b3-4fbd-a852-a6cecc92d5f5",
   "metadata": {},
   "outputs": [],
   "source": [
    "#Type here:\n"
   ]
  },
  {
   "cell_type": "markdown",
   "id": "b7dd2db7-0885-4ca2-a9ae-ad58f652315a",
   "metadata": {},
   "source": [
    "<details><summary >Click here for the solution after you've done the task.    \n",
    "    \n",
    "    \n",
    "</summary>\n",
    "\n",
    "```python\n",
    "type(5)\n",
    "```\n",
    "\n",
    "</details>"
   ]
  },
  {
   "cell_type": "markdown",
   "id": "fa018d53-92ca-4dd7-8873-4d76ec9852b9",
   "metadata": {},
   "source": [
    "<p style = \"color:cyan\"> Ex10: Can you tell the class of the data piece below?\n",
    "    \n",
    "```python\n",
    "\"March\"\n",
    "```\n",
    "    \n",
    "</p>"
   ]
  },
  {
   "cell_type": "code",
   "execution_count": null,
   "id": "144ac7be-8b7d-48e2-863e-ea683cc447ce",
   "metadata": {},
   "outputs": [],
   "source": [
    "#Type here:\n"
   ]
  },
  {
   "cell_type": "markdown",
   "id": "0edbe83c-2108-4eac-9031-faf2851e4f1a",
   "metadata": {
    "tags": []
   },
   "source": [
    "<details><summary >Click here for the solution after you've done the task.    \n",
    "    \n",
    "    \n",
    "</summary>\n",
    "\n",
    "```python\n",
    "type(\"March\")\n",
    "```\n",
    "\n",
    "</details>"
   ]
  },
  {
   "cell_type": "markdown",
   "id": "12bea2f9-3481-4ddc-87b9-28a4c926d12c",
   "metadata": {},
   "source": [
    "<p style = \"color:cyan\"> Ex11: Can you tell the class of the data piece below?\n",
    "    \n",
    "```python\n",
    "True\n",
    "```\n",
    "    \n"
   ]
  },
  {
   "cell_type": "code",
   "execution_count": null,
   "id": "6826df57-5146-43fd-b3b0-dd78017cbbd3",
   "metadata": {},
   "outputs": [],
   "source": [
    "#Type here:\n"
   ]
  },
  {
   "cell_type": "markdown",
   "id": "072cb63c-a0f3-458f-9bcb-718914dead0a",
   "metadata": {},
   "source": [
    "<details><summary >Click here for the solution after you've done the task.    \n",
    "    \n",
    "    \n",
    "</summary>\n",
    "\n",
    "```python\n",
    "type(True)\n",
    "```\n",
    "\n",
    "</details>"
   ]
  },
  {
   "cell_type": "markdown",
   "id": "72d30eb6-bf04-4d4e-bfd4-f9b7917d31be",
   "metadata": {},
   "source": [
    "<p style = \"color:cyan\"> Ex12: Can you tell the class of the data piece below?\n",
    "    \n",
    "```python\n",
    "1973.233\n",
    "```\n",
    "    \n",
    "</p>"
   ]
  },
  {
   "cell_type": "code",
   "execution_count": null,
   "id": "d0580e6a-1567-4db2-920e-462937e7f998",
   "metadata": {},
   "outputs": [],
   "source": [
    "#Type here:\n"
   ]
  },
  {
   "cell_type": "markdown",
   "id": "816fc11f-9439-4be9-837f-0ef81419c900",
   "metadata": {},
   "source": [
    "<details><summary >Click here for the solution after you've done the task.    \n",
    "    \n",
    "    \n",
    "</summary>\n",
    "\n",
    "```python\n",
    "type(1973.233)\n",
    "```\n",
    "\n",
    "</details>"
   ]
  },
  {
   "cell_type": "markdown",
   "id": "17c501e7-38f2-4186-9330-c5c52f706f02",
   "metadata": {},
   "source": [
    "### 1, String:\n",
    "- String is the class of text data. \n",
    "- A string is defined by a sequence of texts enclosed by a pair of either single quotes `''`, double quotes `\"\"` or triple quotes`''' '''`.\n",
    "    + Single and double quotes have similar functions.\n",
    "    + Triple quotes are used to define a string that spans over multiple lines.  \n",
    "- Since single quotes `''`, double quotes `\"\"`, and triple quotes`''' '''` are used to define a string. Every time a single quote`'`', a double quote `\"`, or a `'''` triple quote shows up, Python will execute it as a start or end for a string. If you want to include a quote of any kind in your text, you must enclose the string with a pair of quotes of a different kind.\n"
   ]
  },
  {
   "cell_type": "markdown",
   "id": "171b8635-1790-4dcb-ad3d-b425934b8770",
   "metadata": {},
   "source": [
    "<p style = \"color:cyan\"> Ex13: Assign following paragraph into a variable named `the_string` and then call it out: \n",
    "\n",
    "    A pair of triple quotes look like this '''_'''. \n",
    "   \n",
    "</p>"
   ]
  },
  {
   "cell_type": "code",
   "execution_count": null,
   "id": "7562c35c-3431-43d2-8d3f-ac7d46e2c197",
   "metadata": {},
   "outputs": [],
   "source": [
    "#Type here:\n"
   ]
  },
  {
   "cell_type": "markdown",
   "id": "c8fe1107-d775-4acd-9704-84addc1576c1",
   "metadata": {},
   "source": [
    "<details><summary> Click here for the solution after you've done the tasks:\n",
    "    </summary>\n",
    "\n",
    "```python\n",
    "the_string = \"A pair of triple quotes look like this '''_'''.\"\n",
    "\n",
    "#then:\n",
    "the_string\n",
    "```\n",
    "\n",
    "</details>\n"
   ]
  },
  {
   "cell_type": "markdown",
   "id": "078d7894-fdbe-4140-89b6-b831eef9fe80",
   "metadata": {},
   "source": [
    "<p style = \"color:cyan\"> Ex14: Assign following paragraph into a variable named `the_para` and then PRINT it out: \n",
    "\n",
    "    Beige, because is warm, simple and natural. \n",
    "    Because it's the color of the worn earth of Mademoiselle's native Auvergne and the beaches of Deauville, Biarritz and Venice Lido. \n",
    "    Because it is for her the color for the outdoor, of a natural complexion and the healthy glow of skin kissed by the sun.\n",
    "    \n",
    "</p>"
   ]
  },
  {
   "cell_type": "code",
   "execution_count": null,
   "id": "baff4067-ca05-475d-9eed-68b1f8c3a0e6",
   "metadata": {},
   "outputs": [],
   "source": [
    "#Type here:\n"
   ]
  },
  {
   "cell_type": "markdown",
   "id": "c022e74f-513b-408e-aa4c-cca1ee69ee37",
   "metadata": {},
   "source": [
    "<details><summary >Click here for the solution after you've done the tasks:    \n",
    "    \n",
    "    \n",
    "</summary>\n",
    "\n",
    "```python\n",
    "the_para = '''Beige, because is warm, simple and natural. \n",
    "Because it's the color of the worn earth of Mademoiselle's native Auvergne and the beaches of Deauville, Biarritz and Venice Lido. \n",
    "Because it is for her the color for the outdoor, of a natural complexion and the healthy glow of skin kissed by the sun.'''\n",
    "\n",
    "print(the_para)\n",
    "```\n",
    "\n",
    "</details>\n"
   ]
  },
  {
   "cell_type": "markdown",
   "id": "44c533a0-ec51-46d2-9ee5-b3137c273e10",
   "metadata": {},
   "source": [
    "> Some of you may find out that the results of the following commands are different:\n",
    "```python\n",
    "the_para\n",
    "```\n",
    "And:\n",
    "```python\n",
    "print(the_para)\n",
    "```\n",
    "> It is because, in a string, a new line is represented by `/n`, which is an escape sequence. We will dig deeper into escape sequences in the upcoming topic."
   ]
  },
  {
   "cell_type": "markdown",
   "id": "22a62575-8f50-478e-a864-480f9c38404b",
   "metadata": {},
   "source": [
    "### 2, Int and Float:"
   ]
  },
  {
   "cell_type": "markdown",
   "id": "88a95816-cb08-4957-b399-7a43f6f6cd76",
   "metadata": {},
   "source": [
    "- `Int` is the class of integer number data.\n",
    "- `Float` is the class of real number data."
   ]
  },
  {
   "cell_type": "markdown",
   "id": "5c11bf87-f580-4c3c-993e-c599a7e19660",
   "metadata": {},
   "source": [
    "<p style = \"color:cyan\"> Ex15: Is this int or float? \n",
    "\n",
    "```python\n",
    "- 3.333\n",
    "\n",
    "```\n",
    "    \n",
    "</p>"
   ]
  },
  {
   "cell_type": "code",
   "execution_count": null,
   "id": "5dea8ff9-87e2-42bf-a5d8-664eabba5d41",
   "metadata": {},
   "outputs": [],
   "source": [
    "#Type here:\n"
   ]
  },
  {
   "cell_type": "markdown",
   "id": "cd1a953e-0da5-41d1-8974-770a4e3f2bec",
   "metadata": {},
   "source": [
    "<details><summary > Click here for the solution after you've done the tasks:   \n",
    "    \n",
    "    \n",
    "</summary>\n",
    "\n",
    "```python\n",
    "type(- 3.333)\n",
    "```\n",
    "\n",
    "</details>"
   ]
  },
  {
   "cell_type": "markdown",
   "id": "b9b402db-4713-4ce6-bf90-a409b1699075",
   "metadata": {},
   "source": [
    "<p style = \"color:cyan\"> Ex16: Is this int or float? \n",
    "\n",
    "```python\n",
    "- 90\n",
    "```\n",
    "</p>"
   ]
  },
  {
   "cell_type": "code",
   "execution_count": null,
   "id": "f8c540e6-0d95-4f23-914a-0d8677e26592",
   "metadata": {},
   "outputs": [],
   "source": [
    "#Type here:\n"
   ]
  },
  {
   "cell_type": "markdown",
   "id": "51568d4c-99aa-4405-a36a-643e14c361cc",
   "metadata": {},
   "source": [
    "<details><summary >Click here for the solution after you've done the tasks:  \n",
    "    \n",
    "    \n",
    "</summary>\n",
    "\n",
    "```python\n",
    "type(- 90)\n",
    "```\n",
    "\n",
    "</details>"
   ]
  },
  {
   "cell_type": "markdown",
   "id": "07c5dd1c-b403-40ad-bd6f-4c19645087f9",
   "metadata": {},
   "source": [
    "<p style = \"color:cyan\"> Ex17: Is this int or float?\n",
    "\n",
    "```python\n",
    "136\n",
    "```\n",
    "   \n",
    "</p>"
   ]
  },
  {
   "cell_type": "code",
   "execution_count": null,
   "id": "0870c595-d004-4a40-adb3-b3feed97a4eb",
   "metadata": {},
   "outputs": [],
   "source": [
    "#Type here:\n"
   ]
  },
  {
   "cell_type": "markdown",
   "id": "aecd0880-13ec-49ed-8e60-683958fa4f24",
   "metadata": {},
   "source": [
    "<details><summary >Click here for the solution after you've done the tasks:\n",
    "    \n",
    "    \n",
    "</summary>\n",
    "\n",
    "```python\n",
    "type(136)\n",
    "```\n",
    "\n",
    "</details>"
   ]
  },
  {
   "cell_type": "markdown",
   "id": "fd15bab5-855f-4ed6-a279-f53770556989",
   "metadata": {},
   "source": [
    "### 3, Bool:\n",
    "- Bool or so-called boolean data is data that can only take one of the two following values: `True` or `False`.\n",
    "- Bool data is used to test whether a mathematic equation is true or false and for other purposes."
   ]
  },
  {
   "cell_type": "code",
   "execution_count": null,
   "id": "a96b7dad-172d-405a-abb3-923840cedd9a",
   "metadata": {},
   "outputs": [],
   "source": [
    "#Is this true or false?\n",
    "3+5 == 9"
   ]
  },
  {
   "cell_type": "code",
   "execution_count": null,
   "id": "62ff42ef-a26b-4c24-8b70-faa248d3f0ae",
   "metadata": {},
   "outputs": [],
   "source": [
    "#Is this true or false?\n",
    "30*33 < 23"
   ]
  },
  {
   "cell_type": "code",
   "execution_count": null,
   "id": "3bb48b11-4cc4-484a-a9d7-f3a9f108298b",
   "metadata": {},
   "outputs": [],
   "source": [
    "#Is this true or false?\n",
    "4-3>-3"
   ]
  },
  {
   "cell_type": "markdown",
   "id": "8882dabc-377e-4fd8-8ea8-414551128447",
   "metadata": {},
   "source": [
    "### 4, Data types conversion:\n",
    "- `a,` We can converse a bool, an int data piece into a float all the time. To do so, we use the `int()` function with the variable or the constant inside the parentheses."
   ]
  },
  {
   "cell_type": "code",
   "execution_count": null,
   "id": "d28fd103-ec2a-46b6-a2e7-3f8cf6067eaf",
   "metadata": {},
   "outputs": [],
   "source": [
    "var1 = 136"
   ]
  },
  {
   "cell_type": "markdown",
   "id": "fa41e789-f400-4506-8e98-db7beddb2d62",
   "metadata": {},
   "source": [
    "<p style=\"color:cyan;\" >Ex18: Do these tasks:\n",
    "    \n",
    "    - What is the class of var1?\n",
    "    - Cast var1 into an int.\n",
    "    - Recheck the type of the data\n",
    "\n",
    "</p>"
   ]
  },
  {
   "cell_type": "code",
   "execution_count": null,
   "id": "91ed8ad7-60c6-4bad-8737-44f5f946868d",
   "metadata": {},
   "outputs": [],
   "source": [
    "#Type here:\n"
   ]
  },
  {
   "cell_type": "markdown",
   "id": "b8d5dbc1-4d28-4c8d-a6e0-c42f9140429a",
   "metadata": {},
   "source": [
    "<details><summary>    \n",
    "Click here for the solution after you've done the task.    \n",
    "    \n",
    "</summary>\n",
    "\n",
    "```python\n",
    "#check the class:\n",
    "print(type(var1))\n",
    "\n",
    "#Cast data:\n",
    "int(var1)\n",
    "\n",
    "#Check the class:\n",
    "print(type(var1))\n",
    "```\n",
    "\n",
    "</details>"
   ]
  },
  {
   "cell_type": "code",
   "execution_count": null,
   "id": "f38508e9-613f-453f-90f0-fe9f5500e9bb",
   "metadata": {},
   "outputs": [],
   "source": [
    "var2 = 136.136"
   ]
  },
  {
   "cell_type": "markdown",
   "id": "cf927aee-8f31-4626-b4d1-e8a8931187c6",
   "metadata": {},
   "source": [
    "<p style=\"color:cyan;\" >Ex19: Do these tasks:\n",
    "    \n",
    "    - What is the class of var2?\n",
    "    - Cast var1 into an int.\n",
    "    - Recheck the type of the data\n",
    "\n",
    "</p>"
   ]
  },
  {
   "cell_type": "code",
   "execution_count": null,
   "id": "02058aaa-4d60-4292-adac-a444ce523d85",
   "metadata": {},
   "outputs": [],
   "source": [
    "#Type here:\n"
   ]
  },
  {
   "cell_type": "markdown",
   "id": "69bd7a7a-6156-4e93-a90a-1b4eefb3c7f1",
   "metadata": {},
   "source": [
    "<details><summary>Click here for the solution after you've done the tasks:   \n",
    "    \n",
    "    \n",
    "</summary>\n",
    "\n",
    "```python\n",
    "#check the class:\n",
    "print(type(var2))\n",
    "\n",
    "#Cast data:\n",
    "int(var2)\n",
    "\n",
    "#Check the class:\n",
    "print(type(var2))\n",
    "```\n",
    "\n",
    "</details>"
   ]
  },
  {
   "cell_type": "code",
   "execution_count": null,
   "id": "fc2f053f-2bb1-43dd-a347-eff37b69f4c2",
   "metadata": {},
   "outputs": [],
   "source": [
    "var3 = \"Today is a beautiful day\""
   ]
  },
  {
   "cell_type": "markdown",
   "id": "e6477af1-0ed6-4e84-92f0-9f53caf08d08",
   "metadata": {},
   "source": [
    "<p style=\"color:cyan;\" >Ex20: Do these tasks:\n",
    "    \n",
    "    - What is the class of var3?\n",
    "    - Cast var1 into an int.\n",
    "    - Recheck the type of the data\n",
    "\n",
    "</p>"
   ]
  },
  {
   "cell_type": "code",
   "execution_count": null,
   "id": "a6a1b2ce-fe22-45fc-8955-abbc1e2f862f",
   "metadata": {},
   "outputs": [],
   "source": [
    "#Type here:\n"
   ]
  },
  {
   "cell_type": "markdown",
   "id": "02be6eaa-23ab-4b2f-b864-49a87a8a55a3",
   "metadata": {},
   "source": [
    "<details><summary >Click here for the solution after you've done the tasks:\n",
    "    \n",
    "    \n",
    "</summary>\n",
    "\n",
    "```python\n",
    "#check the class:\n",
    "print(type(var3))\n",
    "\n",
    "#Cast data:\n",
    "int(var3)\n",
    "\n",
    "#Check the class:\n",
    "print(type(var3))\n",
    "```\n",
    "\n",
    "</details>"
   ]
  },
  {
   "cell_type": "code",
   "execution_count": null,
   "id": "f24fd661-c161-4984-9dd4-69cfc1853b28",
   "metadata": {},
   "outputs": [],
   "source": [
    "var4 = False"
   ]
  },
  {
   "cell_type": "markdown",
   "id": "5042a3e1-8fba-4a2a-80cd-0e76b2900574",
   "metadata": {},
   "source": [
    "<p style=\"color:cyan;\" >Ex21: Do these tasks:\n",
    "    \n",
    "    - What is the class of var4?\n",
    "    - Cast var1 into an int.\n",
    "    - Recheck the type of the data\n",
    "\n",
    "</p>"
   ]
  },
  {
   "cell_type": "code",
   "execution_count": null,
   "id": "52310458-f22b-4948-b15d-fdc9cd4f434c",
   "metadata": {},
   "outputs": [],
   "source": [
    "#Type here:\n"
   ]
  },
  {
   "cell_type": "markdown",
   "id": "c540f3e2-7d3a-4ea9-aad2-0d465798bb0b",
   "metadata": {},
   "source": [
    "<details><summary>Click here for the solution after you've done the tasks:    \n",
    "    \n",
    "    \n",
    "</summary>\n",
    "\n",
    "```python\n",
    "#check the class:\n",
    "print(type(var4))\n",
    "\n",
    "#Cast data:\n",
    "int(var4)\n",
    "\n",
    "#Check the class:\n",
    "print(type(var4))\n",
    "```\n",
    "\n",
    "</details>"
   ]
  },
  {
   "cell_type": "markdown",
   "id": "52d245cf-16f9-463a-a938-bbcc073775a7",
   "metadata": {},
   "source": [
    "- `b,` We can cast an int, a bool, and a string representing a number using `float()` with the variable or constant within the parentheses. "
   ]
  },
  {
   "cell_type": "code",
   "execution_count": null,
   "id": "d573a255-5ee4-4957-971f-fc08cffc684f",
   "metadata": {},
   "outputs": [],
   "source": [
    "var5 = False"
   ]
  },
  {
   "cell_type": "markdown",
   "id": "377e3d5a-1300-45a1-81ee-6d05d15d4eca",
   "metadata": {},
   "source": [
    "<p style=\"color:cyan;\" >Ex22: Do these task:\n",
    "    \n",
    "    - What is the class of var5?\n",
    "    - Cast var1 into a float.\n",
    "    - Recheck the type of the data\n",
    "    \n",
    "</p>\n",
    "    \n"
   ]
  },
  {
   "cell_type": "code",
   "execution_count": null,
   "id": "c4139a2d-9d36-4b6f-b5ce-8b24fa3eb4c9",
   "metadata": {},
   "outputs": [],
   "source": [
    "#Type here:\n"
   ]
  },
  {
   "cell_type": "markdown",
   "id": "b5a4946b-3456-486c-9011-2ce2f94f53af",
   "metadata": {
    "tags": []
   },
   "source": [
    "<details><summary> Click here for the solution after you've done the taskss:    \n",
    "    \n",
    "    \n",
    "</summary>\n",
    "\n",
    "```python\n",
    "#check the class:\n",
    "print(type(var5))\n",
    "\n",
    "#Cast data:\n",
    "float(var5)\n",
    "\n",
    "#Check the class:\n",
    "print(type(var5))\n",
    "```\n",
    "\n",
    "</details>"
   ]
  },
  {
   "cell_type": "code",
   "execution_count": null,
   "id": "73ea7dc0-b16d-4602-8418-75ab2b18a0e6",
   "metadata": {},
   "outputs": [],
   "source": [
    "var5 = 45"
   ]
  },
  {
   "cell_type": "markdown",
   "id": "38ce3adc-94a6-441e-bb70-436ab3025bd8",
   "metadata": {},
   "source": [
    "<p style=\"color:cyan;\" >Ex24: Do these task:\n",
    "    \n",
    "    - What is the class of var5?\n",
    "    - Cast var1 into a float.\n",
    "    - Recheck the type of the data\n",
    "    \n",
    "</p>\n",
    "    \n"
   ]
  },
  {
   "cell_type": "code",
   "execution_count": null,
   "id": "7ff41d73-7c78-4be7-9374-f306c0364a0f",
   "metadata": {},
   "outputs": [],
   "source": [
    "#Type here:\n"
   ]
  },
  {
   "cell_type": "markdown",
   "id": "ead0197e-fe28-4494-b95d-27e247d9c196",
   "metadata": {
    "tags": []
   },
   "source": [
    "<details><summary> Click here for the solution after you've done the tasks:    \n",
    "    \n",
    "    \n",
    "</summary>\n",
    "\n",
    "```python\n",
    "#check the class:\n",
    "print(type(var5))\n",
    "\n",
    "#Cast data:\n",
    "float(var5)\n",
    "\n",
    "#Check the class:\n",
    "print(type(var5))\n",
    "```\n",
    "\n",
    "</details>"
   ]
  },
  {
   "cell_type": "code",
   "execution_count": null,
   "id": "44ede6b9-3add-4eec-a571-33ad2baf148d",
   "metadata": {},
   "outputs": [],
   "source": [
    "var5 = '34'"
   ]
  },
  {
   "cell_type": "markdown",
   "id": "251ec9e5-6010-4e18-8a05-a955144cbea4",
   "metadata": {},
   "source": [
    "<p style=\"color:cyan;\" >Ex25: Do these tasks:\n",
    "    \n",
    "    - What is the class of var5?\n",
    "    - Cast var1 into a float.\n",
    "    - Recheck the type of the data\n",
    "    \n",
    "</p>\n",
    "    \n"
   ]
  },
  {
   "cell_type": "code",
   "execution_count": null,
   "id": "a34da2b4-1695-43a6-a402-d356a5c599fb",
   "metadata": {},
   "outputs": [],
   "source": [
    "#Type here:"
   ]
  },
  {
   "cell_type": "markdown",
   "id": "e4b97ef4-719a-4a1d-b6c1-05b476d27a0d",
   "metadata": {},
   "source": [
    "<details><summary> Click here for the solution after you've done the tasks:    \n",
    "    \n",
    "    \n",
    "</summary>\n",
    "\n",
    "```python\n",
    "#check the class:\n",
    "print(type(var5))\n",
    "\n",
    "#Cast data:\n",
    "float(var5)\n",
    "\n",
    "#Check the class:\n",
    "print(type(var5))\n",
    "```\n",
    "\n",
    "</details>"
   ]
  },
  {
   "cell_type": "markdown",
   "id": "bf4fabcc-247d-405c-8f6e-5f78ec1ef350",
   "metadata": {},
   "source": [
    "- `c,` We can cast data of all forms into strings. Using the function `str()` with the constant or variable inside the parentheses."
   ]
  },
  {
   "cell_type": "code",
   "execution_count": null,
   "id": "46961ac7-6a11-4504-babf-d5ad4601d13c",
   "metadata": {},
   "outputs": [],
   "source": [
    "var3 = 1"
   ]
  },
  {
   "cell_type": "markdown",
   "id": "5569ee92-e48e-4335-91cc-dd2f02d736bc",
   "metadata": {},
   "source": [
    "<p style=\"color:cyan;\" >Ex26: Do these tasks:\n",
    "    \n",
    "    - What is the class of var5?\n",
    "    - Cast var1 into a string.\n",
    "    - Recheck the type of the data\n",
    "    \n",
    "</p>\n",
    "    \n"
   ]
  },
  {
   "cell_type": "code",
   "execution_count": null,
   "id": "b3ba334f-5931-4e57-b874-3ce3250535fb",
   "metadata": {},
   "outputs": [],
   "source": [
    "#Type here:\n"
   ]
  },
  {
   "cell_type": "markdown",
   "id": "aebcade3-7d0b-4d91-a852-caf5ec3b4de0",
   "metadata": {},
   "source": [
    "<details><summary> Click here for the solution after you've done the tasks:    \n",
    "    \n",
    "    \n",
    "</summary>\n",
    "\n",
    "```python\n",
    "#check the class:\n",
    "print(type(var3))\n",
    "\n",
    "#Cast data:\n",
    "str(var3)\n",
    "\n",
    "#Check the class:\n",
    "print(type(var3))\n",
    "```\n",
    "\n",
    "</details>"
   ]
  },
  {
   "cell_type": "code",
   "execution_count": null,
   "id": "546febc0-b552-45fb-a482-7d6ca525125c",
   "metadata": {},
   "outputs": [],
   "source": [
    "var3 = True"
   ]
  },
  {
   "cell_type": "markdown",
   "id": "9101a9be-2529-4fbc-b4b9-565e250d7dac",
   "metadata": {},
   "source": [
    "<p style=\"color:cyan;\" >Ex27: Do these tasks:\n",
    "    \n",
    "    - What is the class of var5?\n",
    "    - Cast var1 into a string.\n",
    "    - Recheck the type of the data\n",
    "    \n",
    "</p>\n",
    "    \n"
   ]
  },
  {
   "cell_type": "code",
   "execution_count": null,
   "id": "69248d83-1ccf-4509-a06d-6220b0abd99e",
   "metadata": {},
   "outputs": [],
   "source": [
    "#Type here:\n"
   ]
  },
  {
   "cell_type": "markdown",
   "id": "da95db4b-7b4e-4d5c-b2d1-a0bd0ec12fa0",
   "metadata": {},
   "source": [
    "<details><summary> Click here for the solution after you've done the tasks:    \n",
    "    \n",
    "    \n",
    "</summary>\n",
    "\n",
    "```python\n",
    "#check the class:\n",
    "print(type(var3))\n",
    "\n",
    "#Cast data:\n",
    "str(var3)\n",
    "\n",
    "#Check the class:\n",
    "print(type(var3))\n",
    "```\n",
    "\n",
    "</details>"
   ]
  },
  {
   "cell_type": "code",
   "execution_count": null,
   "id": "5813f383-2a0a-48e2-b38c-54d23573a3dc",
   "metadata": {},
   "outputs": [],
   "source": [
    "var3 = - 235.233"
   ]
  },
  {
   "cell_type": "markdown",
   "id": "e4edf97f-ac01-4bc2-bc60-de9544493c76",
   "metadata": {},
   "source": [
    "<p style=\"color:cyan;\" >Ex28: Do these tasks:\n",
    "    \n",
    "    - What is the class of var5?\n",
    "    - Cast var1 into a string.\n",
    "    - Recheck the type of the data\n",
    "    \n",
    "</p>\n",
    "    "
   ]
  },
  {
   "cell_type": "code",
   "execution_count": null,
   "id": "4b26288d-a01f-47e8-8579-9e8cda28d6d9",
   "metadata": {},
   "outputs": [],
   "source": [
    "#Type here:\n"
   ]
  },
  {
   "cell_type": "markdown",
   "id": "34d1359f-f73f-48f9-b97d-8c7d875ef7b3",
   "metadata": {},
   "source": [
    "<details><summary> Click here for the solution after you've done the tasks:    \n",
    "    \n",
    "    \n",
    "</summary>\n",
    "\n",
    "```python\n",
    "#check the class:\n",
    "print(type(var3))\n",
    "\n",
    "#Cast data:\n",
    "str(var3)\n",
    "\n",
    "#Check the class:\n",
    "print(type(var3))\n",
    "```\n",
    "\n",
    "</details>"
   ]
  },
  {
   "cell_type": "markdown",
   "id": "ec0977c6-0c89-4a73-9e07-e9ccd33e01fb",
   "metadata": {},
   "source": [
    "- `d,` We can cast the following data into boolean data using the function bool() with the constant or variable within:\n",
    "    - a string that takes the value of True, False or a number \n",
    "    - a float or an int that takes the value of either 1 or 0\n"
   ]
  },
  {
   "cell_type": "code",
   "execution_count": null,
   "id": "1218ab1e-a43c-4e4a-9e01-95a0c093ce90",
   "metadata": {},
   "outputs": [],
   "source": [
    "var4 = '1'"
   ]
  },
  {
   "cell_type": "markdown",
   "id": "a9090bd9-82e1-4347-bca8-74ba5600f1c2",
   "metadata": {},
   "source": [
    "<p style=\"color:cyan;\" >Ex29: Do these tasks:\n",
    "    \n",
    "    - What is the class of var5?\n",
    "    - Cast var1 into a bool.\n",
    "    - Recheck the type of the data\n",
    "    \n",
    "</p>\n",
    "    \n"
   ]
  },
  {
   "cell_type": "code",
   "execution_count": null,
   "id": "d4342c39-a729-4f7f-a40b-c49600988a45",
   "metadata": {},
   "outputs": [],
   "source": [
    "#Type here:\n"
   ]
  },
  {
   "cell_type": "markdown",
   "id": "315768c9-6df2-4dad-a83a-a90cbac2cf9a",
   "metadata": {},
   "source": [
    "<details><summary> Click here for the solution after you've done the tasks:    \n",
    "    \n",
    "    \n",
    "</summary>\n",
    "\n",
    "```python\n",
    "#check the class:\n",
    "print(type(var4))\n",
    "\n",
    "#Cast data:\n",
    "bool(var4)\n",
    "\n",
    "#Check the class:\n",
    "print(type(var4))\n",
    "```\n",
    "\n",
    "</details>"
   ]
  },
  {
   "cell_type": "code",
   "execution_count": null,
   "id": "d05fd134-9aa2-4666-9e64-1e87f364c1d2",
   "metadata": {},
   "outputs": [],
   "source": [
    "var4 = \"False\""
   ]
  },
  {
   "cell_type": "markdown",
   "id": "d22662f5-fabe-49e8-8c08-ecd6723eb3d1",
   "metadata": {},
   "source": [
    "<p style=\"color:cyan;\" >Ex30: Do these tasks:\n",
    "    \n",
    "    - What is the class of var5?\n",
    "    - Cast var1 into a bool.\n",
    "    - Recheck the type of the data\n",
    "    \n",
    "</p>\n",
    "    \n"
   ]
  },
  {
   "cell_type": "code",
   "execution_count": null,
   "id": "d8b718f4-cc90-466b-a662-c2c4380ed0e4",
   "metadata": {},
   "outputs": [],
   "source": [
    "#Type here:\n"
   ]
  },
  {
   "cell_type": "markdown",
   "id": "0c04fb1e-be78-408c-bc87-9c296eecbfbc",
   "metadata": {},
   "source": [
    "<details><summary> Click here for the solution after you've done the tasks:    \n",
    "    \n",
    "    \n",
    "</summary>\n",
    "\n",
    "```python\n",
    "#check the class:\n",
    "print(type(var4))\n",
    "\n",
    "#Cast data:\n",
    "bool(var4)\n",
    "\n",
    "#Check the class:\n",
    "print(type(var4))\n",
    "```\n",
    "\n",
    "</details>"
   ]
  },
  {
   "cell_type": "code",
   "execution_count": null,
   "id": "2dd6d74d-b328-4fab-9c7b-da3ee0151b77",
   "metadata": {},
   "outputs": [],
   "source": [
    "var4 = 0.000"
   ]
  },
  {
   "cell_type": "markdown",
   "id": "0c467c91-f3b0-45fb-81b1-55ed841fa2a4",
   "metadata": {},
   "source": [
    "<p style=\"color:cyan;\" >Ex31: Do these tasks:\n",
    "    \n",
    "    - What is the class of var5?\n",
    "    - Cast var1 into a bool.\n",
    "    - Recheck the type of the data\n",
    "    \n",
    "</p>\n",
    "    \n"
   ]
  },
  {
   "cell_type": "code",
   "execution_count": null,
   "id": "be4bb65e-f523-4f27-ac59-f296f18d24ff",
   "metadata": {},
   "outputs": [],
   "source": [
    "#Type here:\n"
   ]
  },
  {
   "cell_type": "markdown",
   "id": "cd3ad0b9-911b-4978-99e7-e25617308930",
   "metadata": {},
   "source": [
    "<details><summary> Click here for the solution after you've done the tasks:    \n",
    "    \n",
    "    \n",
    "</summary>\n",
    "\n",
    "```python\n",
    "#check the class:\n",
    "print(type(var4))\n",
    "\n",
    "#Cast data:\n",
    "bool(var4)\n",
    "\n",
    "#Check the class:\n",
    "print(type(var4))\n",
    "```\n",
    "\n",
    "</details>"
   ]
  },
  {
   "cell_type": "code",
   "execution_count": null,
   "id": "4addb393-ee7d-4895-8532-6c789a15c3b1",
   "metadata": {},
   "outputs": [],
   "source": [
    "var4 = 1"
   ]
  },
  {
   "cell_type": "markdown",
   "id": "0b55d780-1a09-4af3-a320-d16c0283029d",
   "metadata": {},
   "source": [
    "<p style=\"color:cyan;\" >Ex32: Do these tasks:\n",
    "    \n",
    "    - What is the class of var5?\n",
    "    - Cast var1 into a bool.\n",
    "    - Recheck the type of the data\n",
    "    \n",
    "</p>\n",
    "    \n"
   ]
  },
  {
   "cell_type": "code",
   "execution_count": null,
   "id": "1072db29-e967-445e-9500-5177627553f1",
   "metadata": {},
   "outputs": [],
   "source": [
    "#Type here:\n"
   ]
  },
  {
   "cell_type": "markdown",
   "id": "d8e97eca-4052-4d9d-82f8-e1379bfd4cd3",
   "metadata": {},
   "source": [
    "<details><summary> Click here for the solution after you've done the tasks:    \n",
    "    \n",
    "    \n",
    "</summary>\n",
    "\n",
    "```python\n",
    "#check the class:\n",
    "print(type(var4))\n",
    "\n",
    "#Cast data:\n",
    "bool(var4)\n",
    "\n",
    "#Check the class:\n",
    "print(type(var4))\n",
    "```\n",
    "\n",
    "</details>"
   ]
  }
 ],
 "metadata": {
  "kernelspec": {
   "display_name": "Python 3 (ipykernel)",
   "language": "python",
   "name": "python3"
  },
  "language_info": {
   "codemirror_mode": {
    "name": "ipython",
    "version": 3
   },
   "file_extension": ".py",
   "mimetype": "text/x-python",
   "name": "python",
   "nbconvert_exporter": "python",
   "pygments_lexer": "ipython3",
   "version": "3.10.6"
  }
 },
 "nbformat": 4,
 "nbformat_minor": 5
}
