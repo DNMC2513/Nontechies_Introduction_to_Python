{
 "cells": [
  {
   "cell_type": "markdown",
   "id": "0a8f3816-faf9-4343-8a02-9e7aecea7e5b",
   "metadata": {},
   "source": [
    "# Working with strings"
   ]
  },
  {
   "cell_type": "markdown",
   "id": "dff75f7c-2e73-499b-a7ca-4546d3c548f0",
   "metadata": {},
   "source": [
    "# `Outline`:\n",
    "- I, What are strings in Python?\n",
    "- II, Escape sequences\n",
    "- III, Raw strings\n",
    "- IV, Indexing and slicing\n",
    "- V, Strings concatenation\n",
    "- VI, format method\n"
   ]
  },
  {
   "cell_type": "markdown",
   "id": "25bce0f7-e476-412e-9a38-074e69f0b2a9",
   "metadata": {},
   "source": [
    "# I, What are strings?\n",
    " \n",
    " In the previous topic, we have mentioned the definitions of string:\n",
    "- String is the class of text data. \n",
    "- A string is defined by a sequence of texts enclosed by a pair of either single quotes `''`, double quotes `\"\"` or triple quotes`''' '''`.\n",
    "    + Single and double quotes have similar functions.\n",
    "    + Triple quotes are used to define a string that spans over multiple lines. \n",
    " \n",
    " Apart from that, a string is IMMUTABLE, in the sense that once you have created a string, there is no way to alter it. The only way to update your text to a string is to create a new string. Now let's revise what we have learned about strings.\n"
   ]
  },
  {
   "cell_type": "markdown",
   "id": "f4f8a8ae-942a-4a0c-97e3-efe5c060b3a0",
   "metadata": {},
   "source": [
    "<p style = \"color:cyan;\">Ex_Assign following paragraph into a variable named `the_para` and then call it out: \n",
    "\n",
    "Don't spend time beating on a wall, hoping to transform it into a door.\n",
    "\n",
    "</p>    "
   ]
  },
  {
   "cell_type": "code",
   "execution_count": null,
   "id": "5104aefb-f00a-4f41-a060-299e5604d97e",
   "metadata": {},
   "outputs": [],
   "source": [
    "#Typer here:\n"
   ]
  },
  {
   "cell_type": "markdown",
   "id": "37a38c63-6e1c-4674-9d8c-b642ae50437c",
   "metadata": {},
   "source": [
    "<details><summary> Click here for solution once you've done the task:</summary>\n",
    "\n",
    "```python\n",
    "the_para = \"Don't spend time beating on a wall, hoping to transform it into a door.\"\n",
    "\n",
    "#then:\n",
    "the_para\n",
    "```\n",
    "\n",
    "</details>\n"
   ]
  },
  {
   "cell_type": "markdown",
   "id": "2c62f71f-16d1-4489-b402-70ecb4c2b83f",
   "metadata": {},
   "source": [
    ">I hope you guys still remember how to input texts with seperated lines."
   ]
  },
  {
   "cell_type": "markdown",
   "id": "87c395b6-39ba-4209-8c87-baec50234df9",
   "metadata": {},
   "source": [
    "<p style = \"color: cyan;\"> Ex_Assign the following paragraph into a variable named `the_para2` and then call it out:\n",
    "\n",
    "“Elegance is refusal.”\n",
    "\n",
    "― Coco Chanel\n",
    "</p>   "
   ]
  },
  {
   "cell_type": "code",
   "execution_count": null,
   "id": "a0863e3f-eea2-4059-98b4-a98dccefccc7",
   "metadata": {},
   "outputs": [],
   "source": [
    "#Type here:\n"
   ]
  },
  {
   "cell_type": "markdown",
   "id": "47cb317b-be14-44a8-aefc-7ecfa8a986c2",
   "metadata": {},
   "source": [
    "<details><summary>Click here for solution once you've done the task:\n",
    "</summary>\n",
    "\n",
    "```python\n",
    "the_para2 = ''' “Elegance is refusal.”\n",
    "\n",
    "― Coco Chanel'''\n",
    "\n",
    "the_para2\n",
    "```\n",
    "\n",
    "</details>\n"
   ]
  },
  {
   "cell_type": "markdown",
   "id": "b4499ff9-8705-4c95-9411-2f1b273fa38f",
   "metadata": {},
   "source": [
    "I you get the result as:\n",
    "```\n",
    "' “Elegance is refusal.”\\n\\n― Coco Chanel'\n",
    "```"
   ]
  },
  {
   "cell_type": "markdown",
   "id": "7ad079e5-d9e8-4290-8122-f8f582e2bae5",
   "metadata": {},
   "source": [
    "Then congratulation, you have hit the bullseye."
   ]
  },
  {
   "cell_type": "markdown",
   "id": "0480013b-5a2d-4369-a8d6-76d9213541de",
   "metadata": {},
   "source": [
    "In the previous topic, we learned that `\\n` is an escape sequence representing a new line in a string. Now, we will have the chance to dig deeper into escape sequences and their usages."
   ]
  },
  {
   "cell_type": "markdown",
   "id": "f45cad44-4bb0-4c55-b7f9-0d99344fb648",
   "metadata": {},
   "source": [
    "## II, Escape sequences:\n",
    "- An escape sequence is a (short) sequence that does not represent the literal meaning of the last character but is converted into another character. An escape sequence always starts with a backslash `/` and another character behind.\n",
    "- For instance, `/n` does not represent the character `n` in a string but a new line.\n",
    "- The following is the table of the most common escape sequences."
   ]
  },
  {
   "cell_type": "markdown",
   "id": "63cc8e15-0514-4fd4-871f-5e2508ffb0c0",
   "metadata": {},
   "source": [
    "<table><thead><tr><th style=\"text-align:center\">Escape Sequence</th><th style=\"text-align:center\">Meaning</th></tr></thead><tbody><tr><td style=\"text-align:center\">\\’</td><td style=\"text-align:center\">Single quote</td></tr><tr><td style=\"text-align:center\">\\\\\"</td><td style=\"text-align:center\">Double quote</td></tr><tr><td style=\"text-align:center\">\\\\</td><td style=\"text-align:center\">Backslash</td></tr><tr><td style=\"text-align:center\">\\n</td><td style=\"text-align:center\">Newline</td></tr><tr><td style=\"text-align:center\">\\t</td><td style=\"text-align:center\">Horizontal Tab</td></tr></tbody></table>"
   ]
  },
  {
   "cell_type": "markdown",
   "id": "b714fdc1-ada8-4380-a92f-0444a37118b5",
   "metadata": {},
   "source": [
    "<p style = \"color:cyan;\"> Ex_Print the following dialogue in the right format, you must use only single quotes the string: </p>\n",
    "JORDAN: I've been lying on that sofa for as long as I can remember...\n",
    "Daisy turns to Nick with scandalous delight.\n",
    "DAISY: I know! This summer I'll sort of, fling you and Jordan together..."
   ]
  },
  {
   "cell_type": "code",
   "execution_count": null,
   "id": "8772cb48-1d3d-4f27-b52d-4f3881f3ec51",
   "metadata": {},
   "outputs": [],
   "source": [
    "#Type here:\n"
   ]
  },
  {
   "cell_type": "markdown",
   "id": "68573736-0cde-4de6-a208-1986bb703489",
   "metadata": {},
   "source": [
    "<details><summary>Click here for solution:    \n",
    "</summary>\n",
    "\n",
    "```python\n",
    "print('JORDAN: I\\'ve been lying on that sofa for as long as I can remember...\\nDaisy turns to Nick with scandalous delight.\\nDAISY: I know! This summer I\\'ll sort of, fling you and Jordan together...')\n",
    "```\n",
    "</details>\n"
   ]
  },
  {
   "cell_type": "code",
   "execution_count": null,
   "id": "c3dc0744-9567-4446-a223-64c751f307b7",
   "metadata": {},
   "outputs": [],
   "source": [
    "#Type here:\n"
   ]
  },
  {
   "cell_type": "markdown",
   "id": "fe97a907-9c66-4a89-9d52-edfac7489c31",
   "metadata": {},
   "source": [
    "<p style = \"color:cyan;\">Ex_Print the following director right format: </p>\n",
    "C:\\Users\\Admin\\AppData\\Roaming\\Python\\Python310\\Scripts\\Non_techie"
   ]
  },
  {
   "cell_type": "code",
   "execution_count": null,
   "id": "ed60fce2-cef7-4e9c-8f0b-db96c1f4f055",
   "metadata": {},
   "outputs": [],
   "source": [
    "#Type here:\n"
   ]
  },
  {
   "cell_type": "markdown",
   "id": "059700cb-6852-4c12-9899-f56f20cf5534",
   "metadata": {},
   "source": [
    "<details><summary>Click here for solution:\n",
    "</summary>\n",
    "\n",
    "```python\n",
    "print('C:\\\\Users\\\\Admin\\\\AppData\\\\Roaming\\\\Python\\\\Python310\\\\Scripts\\\\Non_techie')\n",
    "```\n",
    "</details>\n"
   ]
  },
  {
   "cell_type": "markdown",
   "id": "83dc706e-59f6-4ff4-862f-cc7e846eb002",
   "metadata": {},
   "source": [
    "<p style = \"color: cyan;\">Ex_Print the following line on the screen in the right format:</p>\n",
    "none\\none\\none\\none\\none\\none\\none\\none\\none\\none\\none\\none\\none\\none\\none"
   ]
  },
  {
   "cell_type": "code",
   "execution_count": null,
   "id": "d296796e-5725-44f5-8a77-529609660553",
   "metadata": {},
   "outputs": [],
   "source": [
    "#Type here:\n"
   ]
  },
  {
   "cell_type": "markdown",
   "id": "9e2d8bbd-015b-4e0e-aba1-b000229f0264",
   "metadata": {},
   "source": [
    "<details><summary>Click here for solution:  \n",
    "</summary>\n",
    "```python\n",
    "    print('none\\\\none\\\\none\\\\none\\\\none\\\\none\\\\none\\\\none\\\\none\\\\none\\\\none\\\\none\\\\none\\\\none\\\\none')\n",
    "```    \n",
    "</details>\n"
   ]
  },
  {
   "cell_type": "markdown",
   "id": "f4fee1bb-3b1b-4467-ae27-333acd5eda24",
   "metadata": {},
   "source": [
    "Instead of manually replace every single `\\` with a pair of double `\\\\`, we can use the raw string."
   ]
  },
  {
   "cell_type": "markdown",
   "id": "f8268bde-b9d5-4227-9b4d-4e4281b42b5c",
   "metadata": {},
   "source": [
    "## III, Raw strings:\n",
    "- A `raw string` is a string in which all escape sequences stick to the literal meaning of the last character instead of performing its standard functionality.\n",
    "- A raw string has this form:\n",
    "```python\n",
    "r'This is a string.'\n",
    "```"
   ]
  },
  {
   "cell_type": "markdown",
   "id": "1c2f90fa-aaab-4cf8-a412-78ed32800524",
   "metadata": {},
   "source": [
    "<p style = \"color: cyan\"> Ex_Print the following line in the right format using a raw string:\n",
    "none\\none\\none\\none\\none\\none\\none\\none\\none\\none\\none\\none\\none\\none\\none    \n",
    "   </p>"
   ]
  },
  {
   "cell_type": "code",
   "execution_count": null,
   "id": "d852edee-79ac-4273-a2f0-d04c73d31bb5",
   "metadata": {},
   "outputs": [],
   "source": [
    "#Type here:\n"
   ]
  },
  {
   "cell_type": "markdown",
   "id": "4eaa008f-0926-4a30-a43a-a7c81b22ebfa",
   "metadata": {},
   "source": [
    "<details><summary>Click here for solution.    \n",
    "</summary>\n",
    "    \n",
    "```python\n",
    "print(r'none\\none\\none\\none\\none\\none\\none\\none\\none\\none\\none\\none\\none\\none\\none')\n",
    "\n",
    "```    \n",
    "</details>\n"
   ]
  },
  {
   "cell_type": "markdown",
   "id": "c817a9d6-a373-4f8a-bfbc-1992eedd0151",
   "metadata": {},
   "source": [
    "## IV, Indexing and slicing:"
   ]
  },
  {
   "cell_type": "markdown",
   "id": "bd563e96-da93-48ea-bbbf-b22efd88dedc",
   "metadata": {},
   "source": [
    "### 1, What is indexing?\n",
    "- In Python, indexing means giving each element of a sequence a number based on its position. There are two ways of indexing:\n",
    "    - Positive indexing: the first element is indexed as 0, the second element is indexed as 1, and so forth.\n",
    "        - Briefly, the n-th element in the sequence is indexed as (n-1)th.\n",
    "    - Negative indexing: the last element is indexed as -1, the previous element is indexed as -2, and so forth."
   ]
  },
  {
   "cell_type": "code",
   "execution_count": null,
   "id": "e18203ad-9d9c-40c3-9deb-0db6f815fb0f",
   "metadata": {},
   "outputs": [],
   "source": [
    "str1 = \"What a beautiful day!\""
   ]
  },
  {
   "cell_type": "markdown",
   "id": "f6427bcd-dacf-4922-86b9-3fc8a231e61f",
   "metadata": {},
   "source": [
    "<p style = \"color:cyan\"> Ex_Slice out the last element of str1: </p>"
   ]
  },
  {
   "cell_type": "code",
   "execution_count": null,
   "id": "48cd0fa2-732f-41dd-ae18-1ecffe4777d6",
   "metadata": {},
   "outputs": [],
   "source": [
    "#Type here:\n"
   ]
  },
  {
   "cell_type": "markdown",
   "id": "6de27378-a067-42cd-b637-f51fa1979a1b",
   "metadata": {},
   "source": [
    "<details><summary>Click here for solution.    \n",
    "</summary>\n",
    "    \n",
    "```python\n",
    "str1[0]\n",
    "```    \n",
    "</details>\n"
   ]
  },
  {
   "cell_type": "markdown",
   "id": "56472e8b-2d9f-4370-909b-2c093f4c90ef",
   "metadata": {},
   "source": [
    "<p style = \"color:cyan\"> Ex_Slice out the first element of str1: </p>"
   ]
  },
  {
   "cell_type": "code",
   "execution_count": null,
   "id": "4f836000-7889-4f93-8410-0b06b03c4f58",
   "metadata": {},
   "outputs": [],
   "source": [
    "#Type here:\n"
   ]
  },
  {
   "cell_type": "markdown",
   "id": "a34ce7c8-c408-473c-87be-a3b3c775c2ac",
   "metadata": {},
   "source": [
    "<details><summary>Click here for solution.    \n",
    "</summary>\n",
    "    \n",
    "```python\n",
    "str1[-1]\n",
    "```    \n",
    "</details>\n"
   ]
  },
  {
   "cell_type": "markdown",
   "id": "db807844-7761-451b-b49a-fccec423089d",
   "metadata": {},
   "source": [
    "### 2, What is slicing?\n",
    "- It means to extract characters at chosen positions in the string using the command:\n",
    "`string[starting_index:(end_index +1):step]`"
   ]
  },
  {
   "cell_type": "markdown",
   "id": "31b02d30-8fcb-4ab7-b0d8-8327dc3f8bd4",
   "metadata": {},
   "source": [
    "For instance, we want to extract characters indexed at 0,2,4,6,8 in the str1 variable. \n",
    "- `starting_index` = 0\n",
    "- `end_index + 1` = 8+1 = 9\n",
    "- `step` = 2"
   ]
  },
  {
   "cell_type": "code",
   "execution_count": null,
   "id": "9cb9e814-10e9-4afe-8ac4-9de52697eeef",
   "metadata": {},
   "outputs": [],
   "source": [
    "str1[0:9:2]"
   ]
  },
  {
   "cell_type": "markdown",
   "id": "31ce0a94-39ab-4cc8-b438-0027cf593751",
   "metadata": {},
   "source": [
    "> The 4-indexed character in the variable str1 is a blank space. A blank space is also counted as a character in a string."
   ]
  },
  {
   "cell_type": "markdown",
   "id": "1f9e1364-7c88-4db5-b1d5-e03e95cf2b10",
   "metadata": {},
   "source": [
    "<p style = \"color:cyan\"> Ex_Slice out characters indexed at 0,3,6,9 in the str1 variable </p>"
   ]
  },
  {
   "cell_type": "code",
   "execution_count": null,
   "id": "c9b1b7fb-a0d9-47b3-b9a5-0fccd44d2107",
   "metadata": {},
   "outputs": [],
   "source": [
    "#type here:\n"
   ]
  },
  {
   "cell_type": "markdown",
   "id": "954fe388-81fc-4606-a808-d20400d297e5",
   "metadata": {},
   "source": [
    "<details><summary>Click here for solution.    \n",
    "</summary>\n",
    "    \n",
    "```python\n",
    "str1[0:3:10]\n",
    "```    \n",
    "</details>\n"
   ]
  },
  {
   "cell_type": "markdown",
   "id": "5a092aac-e147-41bb-8a60-d6deec601951",
   "metadata": {},
   "source": [
    "## V, String concatenation:\n",
    "- We can concatenate strings using the `+` symbol. For instance, to concatenate the sliced texts from the str1, we can use the command:"
   ]
  },
  {
   "cell_type": "code",
   "execution_count": null,
   "id": "7357a909-65b0-48fa-8b43-fbe54cd649ee",
   "metadata": {},
   "outputs": [],
   "source": [
    "str1[0:9:2] + str1[0:3:10]"
   ]
  },
  {
   "cell_type": "code",
   "execution_count": null,
   "id": "468bd691-1604-4000-b879-c019b47665be",
   "metadata": {},
   "outputs": [],
   "source": [
    "el1 = \"this\"\n",
    "el2 = \"is\"\n",
    "el3 = \"a\" \n",
    "el4 = \"notebooke\""
   ]
  },
  {
   "cell_type": "markdown",
   "id": "405f4543-7876-447a-99ff-979d125f66eb",
   "metadata": {},
   "source": [
    "<p style = \"color:cyan\"> Ex_Create a string formed up from el1, el2, el3, and el4 and then print the string. </p>"
   ]
  },
  {
   "cell_type": "code",
   "execution_count": null,
   "id": "8932f15c-56b6-4d70-8fd8-960e85aaf799",
   "metadata": {},
   "outputs": [],
   "source": [
    "#Type here:\n"
   ]
  },
  {
   "cell_type": "markdown",
   "id": "a82895d0-60c0-4ac6-960e-c9000311fb0a",
   "metadata": {},
   "source": [
    "<details><summary>Click here for solution.    \n",
    "</summary>\n",
    "    \n",
    "```python\n",
    "print(el1+el2+el3+el4)\n",
    "```    \n",
    "</details>\n"
   ]
  },
  {
   "cell_type": "markdown",
   "id": "1cdba5d5-5f14-4ba8-a0ec-9f07e798a55f",
   "metadata": {},
   "source": [
    "<p style = \"color:cyan\"> Ex_Create a string formed up from el1, el2, el3, and el4 with spaces between each word and print the string. </p>\n"
   ]
  },
  {
   "cell_type": "code",
   "execution_count": null,
   "id": "1207be54-3db6-485d-bd62-a1c12a957bb6",
   "metadata": {},
   "outputs": [],
   "source": [
    "#Type here:\n"
   ]
  },
  {
   "cell_type": "markdown",
   "id": "897e5db2-1ce4-4ed6-9f73-897064fc1eff",
   "metadata": {},
   "source": [
    "<details><summary>Click here for solution.    \n",
    "</summary>\n",
    "    \n",
    "```python\n",
    "print(el1+'\\t'+el2+'\\t'+el3+'\\t'+el4+'\\t')\n",
    "```    \n",
    "</details>\n"
   ]
  },
  {
   "cell_type": "markdown",
   "id": "072ea24b-8629-4df6-85e7-290cc83b065b",
   "metadata": {},
   "source": [
    "## VI, Format method:"
   ]
  },
  {
   "cell_type": "markdown",
   "id": "d26c479a-e693-459c-ac2d-7e6d0ade6496",
   "metadata": {},
   "source": [
    "- A method is a function associated with a specific data type in Python."
   ]
  },
  {
   "cell_type": "markdown",
   "id": "0e5b763f-bb51-474c-a248-fb3d94028900",
   "metadata": {},
   "source": [
    "### 1, Format method: \n",
    "- This method allows us to pass values of another string variable into our string instead of typing down its value. For instance:"
   ]
  },
  {
   "cell_type": "code",
   "execution_count": null,
   "id": "bef9bc3e-ac5d-4d2b-9872-a55ee79e5e14",
   "metadata": {},
   "outputs": [],
   "source": [
    "name = \"DNMC2513\"\n",
    "title = \"author\"\n",
    "string = \"{} is the {} of this book\".format(name, title)\n",
    "string"
   ]
  },
  {
   "cell_type": "markdown",
   "id": "6a31d77a-ce06-4750-a5dd-d1904d514ff5",
   "metadata": {},
   "source": [
    "### 2, f-string: \n",
    "- You can think of f-string as a shortcut for the format method. For instance:"
   ]
  },
  {
   "cell_type": "code",
   "execution_count": null,
   "id": "40cedd10-f577-42e3-b2ba-927ce82f495a",
   "metadata": {},
   "outputs": [],
   "source": [
    "string = f'{name} is the {title} of this book.'\n",
    "string"
   ]
  }
 ],
 "metadata": {
  "kernelspec": {
   "display_name": "Python 3 (ipykernel)",
   "language": "python",
   "name": "python3"
  },
  "language_info": {
   "codemirror_mode": {
    "name": "ipython",
    "version": 3
   },
   "file_extension": ".py",
   "mimetype": "text/x-python",
   "name": "python",
   "nbconvert_exporter": "python",
   "pygments_lexer": "ipython3",
   "version": "3.10.6"
  }
 },
 "nbformat": 4,
 "nbformat_minor": 5
}
