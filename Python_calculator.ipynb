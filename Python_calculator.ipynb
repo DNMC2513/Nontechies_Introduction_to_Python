{
 "cells": [
  {
   "cell_type": "markdown",
   "id": "d0ebc54a-c60a-49bc-a61c-d1f01b3e4b07",
   "metadata": {},
   "source": [
    "# Calculator_Working with Boolean and Numerical data"
   ]
  },
  {
   "cell_type": "markdown",
   "id": "562beca6-6a66-4d4a-bb2f-ba710b0d7036",
   "metadata": {},
   "source": [
    "## `OUTLINE`:\n",
    "- I, Python's operators:\n",
    "- II, Assignment operators:\n",
    "- III, Comparison operators:\n",
    "- IV, Logical operators:"
   ]
  },
  {
   "cell_type": "markdown",
   "id": "fe7a0d4e-498e-4cc9-b998-35f00f70c1a1",
   "metadata": {},
   "source": [
    "## I, What are Python operators?"
   ]
  },
  {
   "cell_type": "markdown",
   "id": "259cd1be-5ff8-4d26-8ddc-cb5fe8a56c37",
   "metadata": {},
   "source": [
    "- Python operators are quite similar to arithmetic operators in the sense that they are symbols of arithmetic operations.\n",
    "- In case you forget what arithmetic operations are, let me remind you. Arithmetic operations are ways of calculating the number. The arithmetic operations and their operators in Python that most of us have been taught are:\n",
    "    - Subtraction: `-`\n",
    "    - Division: `/`\n",
    "    - Integer division: `//`\n",
    "    - Addition: `+`\n",
    "    - Modulus: `%`  (to find the remainder of an integer division)\n",
    "    - Exponentiation: `**`\n",
    "    - Multiplication: `*`"
   ]
  },
  {
   "cell_type": "code",
   "execution_count": 7,
   "id": "60575d6d-182f-4b53-bf87-0f14a83c134e",
   "metadata": {},
   "outputs": [
    {
     "data": {
      "text/plain": [
       "3"
      ]
     },
     "execution_count": 7,
     "metadata": {},
     "output_type": "execute_result"
    }
   ],
   "source": [
    "#3 modulo 4:\n",
    "3%4"
   ]
  },
  {
   "cell_type": "code",
   "execution_count": 2,
   "id": "05c0ca40-c258-46f0-8d15-bd03324435ab",
   "metadata": {},
   "outputs": [
    {
     "data": {
      "text/plain": [
       "-2"
      ]
     },
     "execution_count": 2,
     "metadata": {},
     "output_type": "execute_result"
    }
   ],
   "source": [
    "# 4 minus 6:\n",
    "4-6"
   ]
  },
  {
   "cell_type": "code",
   "execution_count": 3,
   "id": "e246b5d2-fe44-4b3c-a83c-a796a63e4789",
   "metadata": {},
   "outputs": [
    {
     "data": {
      "text/plain": [
       "6"
      ]
     },
     "execution_count": 3,
     "metadata": {},
     "output_type": "execute_result"
    }
   ],
   "source": [
    "#2 multiplied by 3:\n",
    "2*3"
   ]
  },
  {
   "cell_type": "code",
   "execution_count": 4,
   "id": "f163915e-080c-4082-8e90-23b8c0f17ff7",
   "metadata": {},
   "outputs": [
    {
     "data": {
      "text/plain": [
       "4"
      ]
     },
     "execution_count": 4,
     "metadata": {},
     "output_type": "execute_result"
    }
   ],
   "source": [
    "#2 to the power of 4\n",
    "2**4"
   ]
  },
  {
   "cell_type": "code",
   "execution_count": 5,
   "id": "c6d11037-7664-4123-9e07-0d3d0f29101c",
   "metadata": {},
   "outputs": [
    {
     "data": {
      "text/plain": [
       "6"
      ]
     },
     "execution_count": 5,
     "metadata": {},
     "output_type": "execute_result"
    }
   ],
   "source": [
    "#integer division of 13 and 2\n",
    "13//2"
   ]
  },
  {
   "cell_type": "code",
   "execution_count": 6,
   "id": "44de78db-4b9c-4207-b434-543a4219c7a3",
   "metadata": {},
   "outputs": [
    {
     "data": {
      "text/plain": [
       "0.728125"
      ]
     },
     "execution_count": 6,
     "metadata": {},
     "output_type": "execute_result"
    }
   ],
   "source": [
    "#Normal division:\n",
    "23.3/32"
   ]
  },
  {
   "cell_type": "markdown",
   "id": "e4078833-1059-4b8a-b965-8abca0abe40d",
   "metadata": {},
   "source": [
    "Apart from arithmetic operators, Python operators also have other types:\n",
    "- Assignment operators \n",
    "- Comparison operators\n",
    "- Logical operators"
   ]
  },
  {
   "cell_type": "markdown",
   "id": "8d2c7c43-3ded-4da0-bd95-1417254a34b2",
   "metadata": {},
   "source": [
    "## II, Assignment operators:\n",
    "- Assignment operators are used to assign values to variables.\n",
    "- The assignment operator that we have been using through the previous exercises is: `=`, the equal sign.\n",
    "- We can use a sequence of an arithmetic operator followed by the assignment operator as a short form for an equation of a variable and a constant."
   ]
  },
  {
   "cell_type": "markdown",
   "id": "dae19929-ed8b-4d07-a95b-8af7a6638c26",
   "metadata": {},
   "source": [
    "For instance:"
   ]
  },
  {
   "cell_type": "code",
   "execution_count": 15,
   "id": "523d3637-3337-4943-a0a3-b9b8013a55f6",
   "metadata": {},
   "outputs": [
    {
     "name": "stdout",
     "output_type": "stream",
     "text": [
      "6\n"
     ]
    }
   ],
   "source": [
    "x = 3\n",
    "x = x+3\n",
    "print(x)"
   ]
  },
  {
   "cell_type": "code",
   "execution_count": 14,
   "id": "f8f32a69-257b-4d69-b0bf-670135e0dec0",
   "metadata": {},
   "outputs": [
    {
     "name": "stdout",
     "output_type": "stream",
     "text": [
      "6\n"
     ]
    }
   ],
   "source": [
    "x = 3\n",
    "x +=3\n",
    "print(x)"
   ]
  },
  {
   "cell_type": "markdown",
   "id": "de1b74fc-b765-4fd9-b9df-da1a67d2bc9f",
   "metadata": {},
   "source": [
    "<p style = \"color:cyan\">Ex_Find the short form for the following equation: \n",
    "\n",
    "```python \n",
    "y = 5\n",
    "y = y + 6\n",
    "\n",
    "```\n",
    "</p>"
   ]
  },
  {
   "cell_type": "code",
   "execution_count": 16,
   "id": "c613f2e6-f82c-4c8b-a2e0-6cfeb7ad9c8a",
   "metadata": {},
   "outputs": [],
   "source": [
    "#Type here:\n"
   ]
  },
  {
   "cell_type": "markdown",
   "id": "e54ad4a3-0599-452a-8b8e-2b593fb11df2",
   "metadata": {},
   "source": [
    "<details><summary >Click here for the solution.    \n",
    "</summary>\n",
    "\n",
    "```python\n",
    "y = 5\n",
    "y += 5\n",
    "y\n",
    "\n",
    "```\n",
    "</details>\n"
   ]
  },
  {
   "cell_type": "markdown",
   "id": "609b1813-9d89-40f3-af96-bba6547cfb14",
   "metadata": {},
   "source": [
    "<p style = \"color:cyan\"> Ex_Find the shortform for the following equation: \n",
    "\n",
    "```python \n",
    "y = 5\n",
    "y = y - 6\n",
    "\n",
    "```\n",
    "</p>"
   ]
  },
  {
   "cell_type": "code",
   "execution_count": 16,
   "id": "8bb1077d-2127-4aae-8978-74a00c359d78",
   "metadata": {},
   "outputs": [],
   "source": [
    "#Type here:\n"
   ]
  },
  {
   "cell_type": "markdown",
   "id": "44628d42-3606-4e65-87d6-ecd66ec45c8a",
   "metadata": {},
   "source": [
    "<details><summary >Click here for solution.    \n",
    "</summary>\n",
    "\n",
    "```python\n",
    "y = 5\n",
    "y -= 6\n",
    "y\n",
    "```\n",
    "</details>\n"
   ]
  },
  {
   "cell_type": "markdown",
   "id": "78bb0bbe-e9f3-4b8a-8578-24cb63fd18a7",
   "metadata": {},
   "source": [
    "<p style = \"color:cyan\"> Ex_Find the shortform for the following equation: \n",
    "\n",
    "```python \n",
    "y = 5\n",
    "y = y / 6\n",
    "\n",
    "```\n",
    "</p>"
   ]
  },
  {
   "cell_type": "code",
   "execution_count": 16,
   "id": "6c27e5c8-812a-4ede-8303-7d804c273bf5",
   "metadata": {},
   "outputs": [],
   "source": [
    "#Type here:\n"
   ]
  },
  {
   "cell_type": "markdown",
   "id": "3a834c7c-07e0-4fe0-b582-a82053076ae5",
   "metadata": {},
   "source": [
    "<details><summary >Click here for solution.    \n",
    "</summary>\n",
    "\n",
    "```python\n",
    "y = 5\n",
    "y /= 6\n",
    "y\n",
    "```\n",
    "</details>\n"
   ]
  },
  {
   "cell_type": "markdown",
   "id": "e9a6b815-b1d3-4e5b-b7c8-f016d4d5cbb6",
   "metadata": {},
   "source": [
    "<p style = \"color:cyan\"> Ex_Find the shortform for the following equation: \n",
    "\n",
    "```python \n",
    "y = 7\n",
    "y = y // 2\n",
    "\n",
    "```\n",
    "</p>"
   ]
  },
  {
   "cell_type": "code",
   "execution_count": 43,
   "id": "7295fe6c-685c-4aa5-b565-331ea5fbf33d",
   "metadata": {},
   "outputs": [],
   "source": [
    "#Type here:\n"
   ]
  },
  {
   "cell_type": "markdown",
   "id": "9c624856-93f9-4f87-92f4-a06a43ea8ee2",
   "metadata": {},
   "source": [
    "<details><summary >Click here for solution.    \n",
    "</summary>\n",
    "\n",
    "```python\n",
    "y = 7\n",
    "y //= 2\n",
    "y\n",
    "```\n",
    "</details>\n"
   ]
  },
  {
   "cell_type": "markdown",
   "id": "88872761-dca1-4c24-a68f-f0c0255a3dfd",
   "metadata": {},
   "source": [
    "<p style = \"color:cyan\"> Ex_Find the shortform for the following equation: \n",
    "\n",
    "```python \n",
    "y = 7\n",
    "y = y % 2\n",
    "\n",
    "```\n",
    "</p>"
   ]
  },
  {
   "cell_type": "code",
   "execution_count": 44,
   "id": "a7b5eccd-4713-4ad3-bdd2-c43b7ba85e02",
   "metadata": {},
   "outputs": [],
   "source": [
    "#Type here:\n"
   ]
  },
  {
   "cell_type": "markdown",
   "id": "ff54f97b-1275-44e1-9c80-28af93e2933a",
   "metadata": {},
   "source": [
    "<details><summary >Click here for solution.    \n",
    "</summary>\n",
    "\n",
    "```python\n",
    "y = 7\n",
    "y %= 2\n",
    "y\n",
    "```\n",
    "</details>\n"
   ]
  },
  {
   "cell_type": "markdown",
   "id": "fe849ff2-b08a-4230-8a29-fe74d6bdeeaf",
   "metadata": {},
   "source": [
    "<p style = \"color:cyan\"> Ex_Find the shortform for the following equation: \n",
    "\n",
    "```python \n",
    "y = 3\n",
    "y = 3**4\n",
    "\n",
    "```\n",
    "</p>"
   ]
  },
  {
   "cell_type": "code",
   "execution_count": 22,
   "id": "01048c0a-b8de-4c4d-b217-5a8bba4416c7",
   "metadata": {},
   "outputs": [],
   "source": [
    "#Type here:\n"
   ]
  },
  {
   "cell_type": "markdown",
   "id": "b30b0e26-cade-44ad-bb02-33a5384d2b5c",
   "metadata": {},
   "source": [
    "<details><summary >Click here for solution.    \n",
    "</summary>\n",
    "\n",
    "```python\n",
    "y = 3\n",
    "y **= 4\n",
    "y\n",
    "```\n",
    "</details>\n"
   ]
  },
  {
   "cell_type": "markdown",
   "id": "03e51b55-e8e8-498b-a9a1-f09a3880854a",
   "metadata": {},
   "source": [
    "## III, Comparison assignments:\n",
    "- We use comparison assignments to test whether our mathematical statements are true or false.\n",
    "- In Python, comparison assignments are:\n",
    "    - `==`: equal\n",
    "    - `!=`: not equal\n",
    "    - `>`: greater than\n",
    "    - `<`: less than\n",
    "    - `>=`: greater than or equal\n",
    "    - `<=`: smaller than or equal\n",
    "> Can you tell whether the following mathematic statements are True or False?"
   ]
  },
  {
   "cell_type": "code",
   "execution_count": 23,
   "id": "5eb73d61-2548-4e32-9760-de14dbec24d8",
   "metadata": {},
   "outputs": [
    {
     "data": {
      "text/plain": [
       "True"
      ]
     },
     "execution_count": 23,
     "metadata": {},
     "output_type": "execute_result"
    }
   ],
   "source": [
    "34*4 >= 23*3"
   ]
  },
  {
   "cell_type": "code",
   "execution_count": 24,
   "id": "2c712134-13d4-45fa-b96d-2b982a35bb48",
   "metadata": {},
   "outputs": [
    {
     "data": {
      "text/plain": [
       "False"
      ]
     },
     "execution_count": 24,
     "metadata": {},
     "output_type": "execute_result"
    }
   ],
   "source": [
    "23//3 <= 5"
   ]
  },
  {
   "cell_type": "code",
   "execution_count": 25,
   "id": "7d2fe5eb-46af-4a19-9feb-999bffaa2f1f",
   "metadata": {},
   "outputs": [
    {
     "data": {
      "text/plain": [
       "False"
      ]
     },
     "execution_count": 25,
     "metadata": {},
     "output_type": "execute_result"
    }
   ],
   "source": [
    "2**8 > 100000"
   ]
  },
  {
   "cell_type": "code",
   "execution_count": 26,
   "id": "d2027bef-0db3-4e12-833b-6e597dcd5e15",
   "metadata": {},
   "outputs": [
    {
     "data": {
      "text/plain": [
       "True"
      ]
     },
     "execution_count": 26,
     "metadata": {},
     "output_type": "execute_result"
    }
   ],
   "source": [
    "4**3 < 3000"
   ]
  },
  {
   "cell_type": "code",
   "execution_count": 27,
   "id": "ae6f963c-dea9-42a7-8791-c0a3221bf160",
   "metadata": {},
   "outputs": [
    {
     "data": {
      "text/plain": [
       "True"
      ]
     },
     "execution_count": 27,
     "metadata": {},
     "output_type": "execute_result"
    }
   ],
   "source": [
    "34 != 23"
   ]
  },
  {
   "cell_type": "code",
   "execution_count": 28,
   "id": "42ea2437-2b87-4638-af7f-aef420768544",
   "metadata": {},
   "outputs": [
    {
     "data": {
      "text/plain": [
       "bool"
      ]
     },
     "execution_count": 28,
     "metadata": {},
     "output_type": "execute_result"
    }
   ],
   "source": [
    "#the class of result:\n",
    "type(34 != 23)"
   ]
  },
  {
   "cell_type": "markdown",
   "id": "b1e7b009-bf65-491e-906e-4a388c5437d4",
   "metadata": {},
   "source": [
    "> The results of these mathematic statements are of `bool` class."
   ]
  },
  {
   "cell_type": "markdown",
   "id": "9d80e625-bc9d-4fa6-9fda-3757328ee2e0",
   "metadata": {},
   "source": [
    "### IV, Logical assignments:"
   ]
  },
  {
   "cell_type": "markdown",
   "id": "bfc79acf-a1ec-4000-9ad4-40eba2c8db42",
   "metadata": {},
   "source": [
    "Logical assignments are used to combine conditional statements:\n",
    "<table style='text-align:left;'>\n",
    "    <tr>\n",
    "        <th>Logical assignment</th>\n",
    "        <th>Meaning</th>\n",
    "    </tr>\n",
    "    <tr>\n",
    "        <th>and</th>\n",
    "        <th>Only returns True if all conditions are true </th>\n",
    "    </tr>\n",
    "    <tr>\n",
    "        <th>or</th>\n",
    "        <th>Returns True even if only one condition is True </th>\n",
    "    </tr>\n",
    "    <tr>\n",
    "        <th>not</th>\n",
    "        <th>Reverse the results of the previous operators</th>\n",
    "    </tr>\n",
    "    \n",
    "</table>"
   ]
  },
  {
   "cell_type": "code",
   "execution_count": 36,
   "id": "c14c0016-24e7-4656-93a9-380489316e42",
   "metadata": {},
   "outputs": [
    {
     "data": {
      "text/plain": [
       "False"
      ]
     },
     "execution_count": 36,
     "metadata": {},
     "output_type": "execute_result"
    }
   ],
   "source": [
    "3>3 and 3>4"
   ]
  },
  {
   "cell_type": "code",
   "execution_count": 37,
   "id": "eb785c20-4b9f-4a60-97ae-0f28de3f4633",
   "metadata": {},
   "outputs": [
    {
     "data": {
      "text/plain": [
       "True"
      ]
     },
     "execution_count": 37,
     "metadata": {},
     "output_type": "execute_result"
    }
   ],
   "source": [
    "not(3>3 and 3>4)"
   ]
  },
  {
   "cell_type": "code",
   "execution_count": 39,
   "id": "db9ea6a8-7cca-4045-b0f1-114104206822",
   "metadata": {},
   "outputs": [
    {
     "data": {
      "text/plain": [
       "True"
      ]
     },
     "execution_count": 39,
     "metadata": {},
     "output_type": "execute_result"
    }
   ],
   "source": [
    "3<2 or 4>3"
   ]
  },
  {
   "cell_type": "code",
   "execution_count": 41,
   "id": "66f9fc75-0dd1-4ba4-8f9b-2b44ed3b30f8",
   "metadata": {},
   "outputs": [
    {
     "data": {
      "text/plain": [
       "True"
      ]
     },
     "execution_count": 41,
     "metadata": {},
     "output_type": "execute_result"
    }
   ],
   "source": [
    "(3>3 and 3>4) or (3>1 and 2>0)"
   ]
  },
  {
   "cell_type": "code",
   "execution_count": 42,
   "id": "bb1d40fc-1403-48c3-9e82-29e167ace831",
   "metadata": {},
   "outputs": [
    {
     "data": {
      "text/plain": [
       "bool"
      ]
     },
     "execution_count": 42,
     "metadata": {},
     "output_type": "execute_result"
    }
   ],
   "source": [
    "type((3>3 and 3>4) or (3>1 and 2>0))"
   ]
  },
  {
   "cell_type": "markdown",
   "id": "9eededcc-6020-446f-a80f-d179602e47d6",
   "metadata": {},
   "source": [
    "> The results of these logical statements are of `bool` class."
   ]
  },
  {
   "cell_type": "code",
   "execution_count": null,
   "id": "136ef43a-136e-4ed0-b8c9-208263f5a18f",
   "metadata": {},
   "outputs": [],
   "source": []
  }
 ],
 "metadata": {
  "kernelspec": {
   "display_name": "Python 3 (ipykernel)",
   "language": "python",
   "name": "python3"
  },
  "language_info": {
   "codemirror_mode": {
    "name": "ipython",
    "version": 3
   },
   "file_extension": ".py",
   "mimetype": "text/x-python",
   "name": "python",
   "nbconvert_exporter": "python",
   "pygments_lexer": "ipython3",
   "version": "3.10.6"
  }
 },
 "nbformat": 4,
 "nbformat_minor": 5
}
